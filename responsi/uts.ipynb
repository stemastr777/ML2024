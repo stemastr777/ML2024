{
 "cells": [
  {
   "cell_type": "code",
   "execution_count": 1,
   "metadata": {},
   "outputs": [],
   "source": [
    "import pandas as pd"
   ]
  },
  {
   "cell_type": "code",
   "execution_count": 6,
   "metadata": {},
   "outputs": [
    {
     "data": {
      "text/plain": [
       "label\n",
       "apple          100\n",
       "banana         100\n",
       "rice           100\n",
       "pomegranate    100\n",
       "pigeonpeas     100\n",
       "papaya         100\n",
       "orange         100\n",
       "muskmelon      100\n",
       "mungbean       100\n",
       "mothbeans      100\n",
       "mango          100\n",
       "maize          100\n",
       "lentil         100\n",
       "kidneybeans    100\n",
       "jute           100\n",
       "grapes         100\n",
       "cotton         100\n",
       "coffee         100\n",
       "coconut        100\n",
       "chickpea       100\n",
       "blackgram      100\n",
       "watermelon     100\n",
       "Name: count, dtype: int64"
      ]
     },
     "execution_count": 6,
     "metadata": {},
     "output_type": "execute_result"
    }
   ],
   "source": [
    "df = pd.read_csv(\"Crop_recommendation.csv\")\n",
    "\n",
    "df.value_counts(subset=\"label\")"
   ]
  }
 ],
 "metadata": {
  "kernelspec": {
   "display_name": "matkul_machine_learning_kernel",
   "language": "python",
   "name": "matkul_machine_learning"
  },
  "language_info": {
   "codemirror_mode": {
    "name": "ipython",
    "version": 3
   },
   "file_extension": ".py",
   "mimetype": "text/x-python",
   "name": "python",
   "nbconvert_exporter": "python",
   "pygments_lexer": "ipython3",
   "version": "3.12.2"
  }
 },
 "nbformat": 4,
 "nbformat_minor": 2
}
